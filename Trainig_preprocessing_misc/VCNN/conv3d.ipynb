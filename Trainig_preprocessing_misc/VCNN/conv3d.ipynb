{
 "cells": [
  {
   "cell_type": "markdown",
   "id": "f5194b63",
   "metadata": {},
   "source": [
    "# Training Of Our Volumetric CNN Model on CASIA_FASD"
   ]
  },
  {
   "cell_type": "code",
   "execution_count": 1,
   "id": "33f4614a",
   "metadata": {
    "execution": {
     "iopub.execute_input": "2022-07-08T23:00:39.306400Z",
     "iopub.status.busy": "2022-07-08T23:00:39.305990Z",
     "iopub.status.idle": "2022-07-08T23:00:42.055590Z",
     "shell.execute_reply": "2022-07-08T23:00:42.054426Z"
    },
    "id": "rIh_gF7ETEbu",
    "papermill": {
     "duration": 2.760589,
     "end_time": "2022-07-08T23:00:42.058703",
     "exception": false,
     "start_time": "2022-07-08T23:00:39.298114",
     "status": "completed"
    },
    "tags": []
   },
   "outputs": [
    {
     "name": "stdout",
     "output_type": "stream",
     "text": [
      "\u001b[34m\u001b[1mwandb\u001b[0m: Appending key for api.wandb.ai to your netrc file: /root/.netrc\r\n"
     ]
    }
   ],
   "source": [
    "# %load_ext tensorboard\n",
    "# !pip install wandb\n",
    "!wandb login ************************************"
   ]
  },
  {
   "cell_type": "code",
   "execution_count": 2,
   "id": "9794bc2c",
   "metadata": {
    "execution": {
     "iopub.execute_input": "2022-07-08T23:00:42.072844Z",
     "iopub.status.busy": "2022-07-08T23:00:42.071310Z",
     "iopub.status.idle": "2022-07-08T23:00:47.902594Z",
     "shell.execute_reply": "2022-07-08T23:00:47.901467Z"
    },
    "id": "jJl_TVhDSROG",
    "outputId": "f3ff0f4d-c514-4b93-ba37-0bba4f6bb73a",
    "papermill": {
     "duration": 5.840508,
     "end_time": "2022-07-08T23:00:47.905110",
     "exception": false,
     "start_time": "2022-07-08T23:00:42.064602",
     "status": "completed"
    },
    "scrolled": true,
    "tags": []
   },
   "outputs": [],
   "source": [
    "import tensorflow as tf\n",
    "from tensorflow import keras\n",
    "import pandas as pd\n",
    "import numpy as np\n",
    "import matplotlib.pyplot as plt\n",
    "import keras.backend as K\n",
    "import cv2\n",
    "import psutil\n",
    "import video_face_utils as futils"
   ]
  },
  {
   "cell_type": "code",
   "execution_count": 3,
   "id": "abf33f2a",
   "metadata": {
    "execution": {
     "iopub.execute_input": "2022-07-08T23:00:47.917857Z",
     "iopub.status.busy": "2022-07-08T23:00:47.917335Z",
     "iopub.status.idle": "2022-07-08T23:00:47.962520Z",
     "shell.execute_reply": "2022-07-08T23:00:47.961687Z"
    },
    "papermill": {
     "duration": 0.053879,
     "end_time": "2022-07-08T23:00:47.964686",
     "exception": false,
     "start_time": "2022-07-08T23:00:47.910807",
     "status": "completed"
    },
    "tags": []
   },
   "outputs": [
    {
     "data": {
      "text/html": [
       "<div>\n",
       "<style scoped>\n",
       "    .dataframe tbody tr th:only-of-type {\n",
       "        vertical-align: middle;\n",
       "    }\n",
       "\n",
       "    .dataframe tbody tr th {\n",
       "        vertical-align: top;\n",
       "    }\n",
       "\n",
       "    .dataframe thead th {\n",
       "        text-align: right;\n",
       "    }\n",
       "</style>\n",
       "<table border=\"1\" class=\"dataframe\">\n",
       "  <thead>\n",
       "    <tr style=\"text-align: right;\">\n",
       "      <th></th>\n",
       "      <th>0</th>\n",
       "      <th>1</th>\n",
       "      <th>2</th>\n",
       "      <th>3</th>\n",
       "      <th>4</th>\n",
       "      <th>5</th>\n",
       "    </tr>\n",
       "  </thead>\n",
       "  <tbody>\n",
       "    <tr>\n",
       "      <th>0</th>\n",
       "      <td>DB/8_False_False_20_110_3_0.avi</td>\n",
       "      <td>False</td>\n",
       "      <td>False</td>\n",
       "      <td>20</td>\n",
       "      <td>110</td>\n",
       "      <td>3</td>\n",
       "    </tr>\n",
       "    <tr>\n",
       "      <th>1</th>\n",
       "      <td>DB/8_False_False_20_110_3_1.avi</td>\n",
       "      <td>False</td>\n",
       "      <td>False</td>\n",
       "      <td>20</td>\n",
       "      <td>110</td>\n",
       "      <td>3</td>\n",
       "    </tr>\n",
       "    <tr>\n",
       "      <th>2</th>\n",
       "      <td>DB/8_False_False_20_110_3_2.avi</td>\n",
       "      <td>False</td>\n",
       "      <td>False</td>\n",
       "      <td>20</td>\n",
       "      <td>110</td>\n",
       "      <td>3</td>\n",
       "    </tr>\n",
       "    <tr>\n",
       "      <th>3</th>\n",
       "      <td>DB/8_False_False_20_110_3_3.avi</td>\n",
       "      <td>False</td>\n",
       "      <td>False</td>\n",
       "      <td>20</td>\n",
       "      <td>110</td>\n",
       "      <td>3</td>\n",
       "    </tr>\n",
       "    <tr>\n",
       "      <th>4</th>\n",
       "      <td>DB/2_False_False_20_199_0_0.avi</td>\n",
       "      <td>False</td>\n",
       "      <td>False</td>\n",
       "      <td>20</td>\n",
       "      <td>199</td>\n",
       "      <td>0</td>\n",
       "    </tr>\n",
       "  </tbody>\n",
       "</table>\n",
       "</div>"
      ],
      "text/plain": [
       "                                 0      1      2   3    4  5\n",
       "0  DB/8_False_False_20_110_3_0.avi  False  False  20  110  3\n",
       "1  DB/8_False_False_20_110_3_1.avi  False  False  20  110  3\n",
       "2  DB/8_False_False_20_110_3_2.avi  False  False  20  110  3\n",
       "3  DB/8_False_False_20_110_3_3.avi  False  False  20  110  3\n",
       "4  DB/2_False_False_20_199_0_0.avi  False  False  20  199  0"
      ]
     },
     "execution_count": 3,
     "metadata": {},
     "output_type": "execute_result"
    }
   ],
   "source": [
    "df = pd.read_csv('../input/liveness-pp2/SPLIT_CASIA_FASD.csv', header = None)\n",
    "train_df = df.iloc[df[1].values == True]\n",
    "test_df = df.iloc[df[1].values == False]\n",
    "df.head()"
   ]
  },
  {
   "cell_type": "code",
   "execution_count": 4,
   "id": "6fc4578c",
   "metadata": {
    "execution": {
     "iopub.execute_input": "2022-07-08T23:00:47.976696Z",
     "iopub.status.busy": "2022-07-08T23:00:47.976438Z",
     "iopub.status.idle": "2022-07-08T23:00:48.351185Z",
     "shell.execute_reply": "2022-07-08T23:00:48.350193Z"
    },
    "papermill": {
     "duration": 0.383614,
     "end_time": "2022-07-08T23:00:48.353707",
     "exception": false,
     "start_time": "2022-07-08T23:00:47.970093",
     "status": "completed"
    },
    "tags": []
   },
   "outputs": [],
   "source": [
    "from tensorflow.keras.utils import to_categorical\n",
    "def train_gen():\n",
    "    labels = to_categorical((train_df.iloc[:,-1].values == 0).astype('int'))\n",
    "    paths = train_df.iloc[:,0].values\n",
    "    videos = []\n",
    "    for i in range(len(paths)):\n",
    "        path = '../input/liveness-pp2/'+paths[i]\n",
    "        label = labels[i]\n",
    "        videos.append(futils.read_vid(path, False).reshape(24,100,100,1))\n",
    "    return np.array(videos, dtype='uint8'), labels\n",
    "\n",
    "def test_gen():\n",
    "    labels = to_categorical((test_df.iloc[:,-1].values == 0).astype('int'))\n",
    "    paths = test_df.iloc[:,0].values\n",
    "    videos = []\n",
    "    for i in range(len(paths)):\n",
    "        path = '../input/liveness-pp2/'+paths[i]\n",
    "        label = labels[i]\n",
    "        videos.append(futils.read_vid(path, False).reshape(24,100,100,1))\n",
    "    return np.array(videos, dtype='uint8'), labels"
   ]
  },
  {
   "cell_type": "code",
   "execution_count": 5,
   "id": "fd262751",
   "metadata": {
    "execution": {
     "iopub.execute_input": "2022-07-08T23:00:48.367837Z",
     "iopub.status.busy": "2022-07-08T23:00:48.366899Z",
     "iopub.status.idle": "2022-07-08T23:01:20.767802Z",
     "shell.execute_reply": "2022-07-08T23:01:20.766654Z"
    },
    "papermill": {
     "duration": 32.410142,
     "end_time": "2022-07-08T23:01:20.770322",
     "exception": false,
     "start_time": "2022-07-08T23:00:48.360180",
     "status": "completed"
    },
    "tags": []
   },
   "outputs": [],
   "source": [
    "X_train, y_train = train_gen()\n",
    "X_test, y_test = test_gen()"
   ]
  },
  {
   "cell_type": "code",
   "execution_count": 6,
   "id": "fdc6f55e",
   "metadata": {
    "execution": {
     "iopub.execute_input": "2022-07-08T23:01:20.783714Z",
     "iopub.status.busy": "2022-07-08T23:01:20.783388Z",
     "iopub.status.idle": "2022-07-08T23:01:20.790943Z",
     "shell.execute_reply": "2022-07-08T23:01:20.789846Z"
    },
    "papermill": {
     "duration": 0.016794,
     "end_time": "2022-07-08T23:01:20.793107",
     "exception": false,
     "start_time": "2022-07-08T23:01:20.776313",
     "status": "completed"
    },
    "tags": []
   },
   "outputs": [],
   "source": [
    "BATCH_SIZE = 16\n",
    "EPOCHS = 30\n",
    "LR = 0.001\n",
    "def get_f1(y_true, y_pred): #taken from old keras source code\n",
    "    true_positives = K.sum(K.round(K.clip(y_true * y_pred, 0, 1)))\n",
    "    possible_positives = K.sum(K.round(K.clip(y_true, 0, 1)))\n",
    "    predicted_positives = K.sum(K.round(K.clip(y_pred, 0, 1)))\n",
    "    precision = true_positives / (predicted_positives + K.epsilon())\n",
    "    recall = true_positives / (possible_positives + K.epsilon())\n",
    "    f1_val = 2*(precision*recall)/(precision+recall+K.epsilon())\n",
    "    return f1_val"
   ]
  },
  {
   "cell_type": "code",
   "execution_count": 7,
   "id": "c8b010c1",
   "metadata": {
    "execution": {
     "iopub.execute_input": "2022-07-08T23:01:20.806438Z",
     "iopub.status.busy": "2022-07-08T23:01:20.806155Z",
     "iopub.status.idle": "2022-07-08T23:01:25.472597Z",
     "shell.execute_reply": "2022-07-08T23:01:25.471667Z"
    },
    "papermill": {
     "duration": 4.676171,
     "end_time": "2022-07-08T23:01:25.475184",
     "exception": false,
     "start_time": "2022-07-08T23:01:20.799013",
     "status": "completed"
    },
    "tags": []
   },
   "outputs": [
    {
     "name": "stderr",
     "output_type": "stream",
     "text": [
      "\u001b[34m\u001b[1mwandb\u001b[0m: Currently logged in as: \u001b[33mahmed-rushdi\u001b[0m (\u001b[33mgp_fcaicu\u001b[0m). Use \u001b[1m`wandb login --relogin`\u001b[0m to force relogin\n"
     ]
    },
    {
     "data": {
      "text/html": [
       "wandb version 0.12.21 is available!  To upgrade, please run:\n",
       " $ pip install wandb --upgrade"
      ],
      "text/plain": [
       "<IPython.core.display.HTML object>"
      ]
     },
     "metadata": {},
     "output_type": "display_data"
    },
    {
     "data": {
      "text/html": [
       "Tracking run with wandb version 0.12.18"
      ],
      "text/plain": [
       "<IPython.core.display.HTML object>"
      ]
     },
     "metadata": {},
     "output_type": "display_data"
    },
    {
     "data": {
      "text/html": [
       "Run data is saved locally in <code>/kaggle/working/wandb/run-20220708_230122-30mq1jcu</code>"
      ],
      "text/plain": [
       "<IPython.core.display.HTML object>"
      ]
     },
     "metadata": {},
     "output_type": "display_data"
    },
    {
     "data": {
      "text/html": [
       "Syncing run <strong><a href=\"https://wandb.ai/gp_fcaicu/Grad_Project_Liveness_Model/runs/30mq1jcu\" target=\"_blank\">vibrant-tree-52</a></strong> to <a href=\"https://wandb.ai/gp_fcaicu/Grad_Project_Liveness_Model\" target=\"_blank\">Weights & Biases</a> (<a href=\"https://wandb.me/run\" target=\"_blank\">docs</a>)<br/>"
      ],
      "text/plain": [
       "<IPython.core.display.HTML object>"
      ]
     },
     "metadata": {},
     "output_type": "display_data"
    },
    {
     "data": {
      "text/html": [
       "<button onClick=\"this.nextSibling.style.display='block';this.style.display='none';\">Display W&B run</button><iframe src=\"https://wandb.ai/gp_fcaicu/Grad_Project_Liveness_Model/runs/30mq1jcu?jupyter=true\" style=\"border:none;width:100%;height:420px;display:none;\"></iframe>"
      ],
      "text/plain": [
       "<wandb.sdk.wandb_run.Run at 0x7fe9d9b02890>"
      ]
     },
     "execution_count": 7,
     "metadata": {},
     "output_type": "execute_result"
    }
   ],
   "source": [
    "import wandb\n",
    "from wandb.keras import WandbCallback\n",
    "\n",
    "wandb.init(project=\"Grad_Project_Liveness_Model\", entity=\"gp_fcaicu\")"
   ]
  },
  {
   "cell_type": "code",
   "execution_count": 8,
   "id": "adf1f6e3",
   "metadata": {
    "execution": {
     "iopub.execute_input": "2022-07-08T23:01:25.490040Z",
     "iopub.status.busy": "2022-07-08T23:01:25.489305Z",
     "iopub.status.idle": "2022-07-08T23:01:25.497352Z",
     "shell.execute_reply": "2022-07-08T23:01:25.496456Z"
    },
    "papermill": {
     "duration": 0.017868,
     "end_time": "2022-07-08T23:01:25.499471",
     "exception": false,
     "start_time": "2022-07-08T23:01:25.481603",
     "status": "completed"
    },
    "tags": []
   },
   "outputs": [],
   "source": [
    "# aug = keras.preprocessing.image.ImageDataGenerator(\n",
    "#     rotation_range=10,\n",
    "#     fill_mode='reflect',\n",
    "#     horizontal_flip=True,\n",
    "# #     preprocessing_function = tf.keras.applications.vgg16.preprocess_input \n",
    "# )\n",
    "\n",
    "lr_red = keras.callbacks.ReduceLROnPlateau(\n",
    "    monitor='val_accuracy',\n",
    "    factor=0.3,\n",
    "    patience=5,\n",
    "    verbose=1,\n",
    "    mode='max',\n",
    "    min_lr=1e-5,\n",
    "#     min_delta=0.1\n",
    ")\n",
    "# def scheduler(epoch, lr):\n",
    "#     if (epoch+1) % 10:\n",
    "#         return lr\n",
    "#     else:\n",
    "#         return lr * 0.1\n",
    "\n",
    "# model = tf.keras.models.Sequential([tf.keras.layers.Dense(10)])\n",
    "# round(model.optimizer.lr.numpy(), 5)\n",
    "\n",
    "checkpoint_filepath = 'bestmodel'\n",
    "model_checkpoint_callback = keras.callbacks.ModelCheckpoint(\n",
    "    filepath=checkpoint_filepath,\n",
    "    save_weights_only=True,\n",
    "    monitor='val_accuracy',\n",
    "    verbose=1,\n",
    "    mode='max',\n",
    "    save_best_only=True)\n",
    "\n",
    "# aug.fit(X_train)"
   ]
  },
  {
   "cell_type": "code",
   "execution_count": 9,
   "id": "0df6df32",
   "metadata": {
    "execution": {
     "iopub.execute_input": "2022-07-08T23:01:25.513892Z",
     "iopub.status.busy": "2022-07-08T23:01:25.513143Z",
     "iopub.status.idle": "2022-07-08T23:01:25.518145Z",
     "shell.execute_reply": "2022-07-08T23:01:25.517082Z"
    },
    "papermill": {
     "duration": 0.014536,
     "end_time": "2022-07-08T23:01:25.520394",
     "exception": false,
     "start_time": "2022-07-08T23:01:25.505858",
     "status": "completed"
    },
    "tags": []
   },
   "outputs": [],
   "source": [
    "# wandb.config = {\n",
    "#   \"learning_rate\": LR,\n",
    "#   \"epochs\": EPOCHS,\n",
    "#   \"batch_size\": BATCH_SIZE\n",
    "# }"
   ]
  },
  {
   "cell_type": "code",
   "execution_count": 10,
   "id": "4062794a",
   "metadata": {
    "execution": {
     "iopub.execute_input": "2022-07-08T23:01:25.538797Z",
     "iopub.status.busy": "2022-07-08T23:01:25.538501Z",
     "iopub.status.idle": "2022-07-08T23:01:29.398852Z",
     "shell.execute_reply": "2022-07-08T23:01:29.397699Z"
    },
    "id": "5gd7BoD2G2S6",
    "outputId": "e4233b39-c65d-4332-95e5-c1e0316cbf9e",
    "papermill": {
     "duration": 3.874732,
     "end_time": "2022-07-08T23:01:29.402492",
     "exception": false,
     "start_time": "2022-07-08T23:01:25.527760",
     "status": "completed"
    },
    "tags": []
   },
   "outputs": [
    {
     "name": "stderr",
     "output_type": "stream",
     "text": [
      "2022-07-08 23:01:25.642120: I tensorflow/stream_executor/cuda/cuda_gpu_executor.cc:937] successful NUMA node read from SysFS had negative value (-1), but there must be at least one NUMA node, so returning NUMA node zero\n",
      "2022-07-08 23:01:25.746245: I tensorflow/stream_executor/cuda/cuda_gpu_executor.cc:937] successful NUMA node read from SysFS had negative value (-1), but there must be at least one NUMA node, so returning NUMA node zero\n",
      "2022-07-08 23:01:25.747099: I tensorflow/stream_executor/cuda/cuda_gpu_executor.cc:937] successful NUMA node read from SysFS had negative value (-1), but there must be at least one NUMA node, so returning NUMA node zero\n",
      "2022-07-08 23:01:25.749196: I tensorflow/core/platform/cpu_feature_guard.cc:142] This TensorFlow binary is optimized with oneAPI Deep Neural Network Library (oneDNN) to use the following CPU instructions in performance-critical operations:  AVX2 AVX512F FMA\n",
      "To enable them in other operations, rebuild TensorFlow with the appropriate compiler flags.\n",
      "2022-07-08 23:01:25.749504: I tensorflow/stream_executor/cuda/cuda_gpu_executor.cc:937] successful NUMA node read from SysFS had negative value (-1), but there must be at least one NUMA node, so returning NUMA node zero\n",
      "2022-07-08 23:01:25.750307: I tensorflow/stream_executor/cuda/cuda_gpu_executor.cc:937] successful NUMA node read from SysFS had negative value (-1), but there must be at least one NUMA node, so returning NUMA node zero\n",
      "2022-07-08 23:01:25.751021: I tensorflow/stream_executor/cuda/cuda_gpu_executor.cc:937] successful NUMA node read from SysFS had negative value (-1), but there must be at least one NUMA node, so returning NUMA node zero\n",
      "2022-07-08 23:01:27.927964: I tensorflow/stream_executor/cuda/cuda_gpu_executor.cc:937] successful NUMA node read from SysFS had negative value (-1), but there must be at least one NUMA node, so returning NUMA node zero\n",
      "2022-07-08 23:01:27.928972: I tensorflow/stream_executor/cuda/cuda_gpu_executor.cc:937] successful NUMA node read from SysFS had negative value (-1), but there must be at least one NUMA node, so returning NUMA node zero\n",
      "2022-07-08 23:01:27.929762: I tensorflow/stream_executor/cuda/cuda_gpu_executor.cc:937] successful NUMA node read from SysFS had negative value (-1), but there must be at least one NUMA node, so returning NUMA node zero\n",
      "2022-07-08 23:01:27.930414: I tensorflow/core/common_runtime/gpu/gpu_device.cc:1510] Created device /job:localhost/replica:0/task:0/device:GPU:0 with 15403 MB memory:  -> device: 0, name: Tesla P100-PCIE-16GB, pci bus id: 0000:00:04.0, compute capability: 6.0\n"
     ]
    },
    {
     "data": {
      "image/png": "[encoded data removed]",
      "text/plain": [
       "<IPython.core.display.Image object>"
      ]
     },
     "execution_count": 10,
     "metadata": {},
     "output_type": "execute_result"
    }
   ],
   "source": [
    "from keras.layers import *\n",
    "model = keras.Sequential()\n",
    "model.add(Conv3D(32, kernel_size=(3, 3, 3),\n",
    "                activation='relu',\n",
    "                input_shape=(24,100,100,1)))\n",
    "model.add(Conv3D(64, (3, 3, 3), activation='relu'))\n",
    "model.add(MaxPooling3D(pool_size=(2, 2, 2)))\n",
    "model.add(Conv3D(64, (3, 3, 3), activation='relu'))\n",
    "model.add(MaxPooling3D(pool_size=(2, 2, 2)))\n",
    "model.add(Conv3D(64, (3, 3, 3), activation='relu'))\n",
    "model.add(MaxPooling3D(pool_size=(2, 2, 2)))\n",
    "model.add(Dropout(0.25))\n",
    "model.add(Flatten())\n",
    "model.add(Dense(128, activation='relu'))\n",
    "model.add(Dropout(0.5))\n",
    "model.add(Dense(2, activation='softmax'))\n",
    "keras.utils.plot_model(model, show_shapes=True,)"
   ]
  },
  {
   "cell_type": "code",
   "execution_count": 11,
   "id": "4e66ab04",
   "metadata": {
    "execution": {
     "iopub.execute_input": "2022-07-08T23:01:29.420185Z",
     "iopub.status.busy": "2022-07-08T23:01:29.419898Z",
     "iopub.status.idle": "2022-07-08T23:01:29.910293Z",
     "shell.execute_reply": "2022-07-08T23:01:29.909216Z"
    },
    "papermill": {
     "duration": 0.502208,
     "end_time": "2022-07-08T23:01:29.912810",
     "exception": false,
     "start_time": "2022-07-08T23:01:29.410602",
     "status": "completed"
    },
    "tags": []
   },
   "outputs": [],
   "source": [
    "wandb.log({\"model\": wandb.Image(\"./model.png\")})"
   ]
  },
  {
   "cell_type": "code",
   "execution_count": 12,
   "id": "8c8e7e75",
   "metadata": {
    "execution": {
     "iopub.execute_input": "2022-07-08T23:01:29.934638Z",
     "iopub.status.busy": "2022-07-08T23:01:29.934331Z",
     "iopub.status.idle": "2022-07-08T23:01:29.950901Z",
     "shell.execute_reply": "2022-07-08T23:01:29.950025Z"
    },
    "id": "uhmWTjcuMuZc",
    "papermill": {
     "duration": 0.028545,
     "end_time": "2022-07-08T23:01:29.953207",
     "exception": false,
     "start_time": "2022-07-08T23:01:29.924662",
     "status": "completed"
    },
    "tags": []
   },
   "outputs": [],
   "source": [
    "model.compile(loss='categorical_crossentropy', optimizer=keras.optimizers.Adam(learning_rate=LR), metrics= ['accuracy'])"
   ]
  },
  {
   "cell_type": "code",
   "execution_count": 13,
   "id": "bd46b066",
   "metadata": {
    "execution": {
     "iopub.execute_input": "2022-07-08T23:01:29.971773Z",
     "iopub.status.busy": "2022-07-08T23:01:29.971505Z",
     "iopub.status.idle": "2022-07-08T23:01:29.975817Z",
     "shell.execute_reply": "2022-07-08T23:01:29.974845Z"
    },
    "papermill": {
     "duration": 0.016365,
     "end_time": "2022-07-08T23:01:29.977892",
     "exception": false,
     "start_time": "2022-07-08T23:01:29.961527",
     "status": "completed"
    },
    "tags": []
   },
   "outputs": [],
   "source": [
    "# import tensorflow as tf\n",
    "# physical_devices = tf.config.list_physical_devices('GPU')\n",
    "# tf.config.experimental.set_memory_growth(physical_devices[0], True)"
   ]
  },
  {
   "cell_type": "code",
   "execution_count": 14,
   "id": "494d9eaf",
   "metadata": {
    "execution": {
     "iopub.execute_input": "2022-07-08T23:01:29.997636Z",
     "iopub.status.busy": "2022-07-08T23:01:29.997283Z",
     "iopub.status.idle": "2022-07-08T23:01:30.007883Z",
     "shell.execute_reply": "2022-07-08T23:01:30.006843Z"
    },
    "papermill": {
     "duration": 0.025346,
     "end_time": "2022-07-08T23:01:30.011221",
     "exception": false,
     "start_time": "2022-07-08T23:01:29.985875",
     "status": "completed"
    },
    "tags": []
   },
   "outputs": [
    {
     "data": {
      "text/plain": [
       "(1717, 24, 100, 100, 1)"
      ]
     },
     "execution_count": 14,
     "metadata": {},
     "output_type": "execute_result"
    }
   ],
   "source": [
    "X_train.shape"
   ]
  },
  {
   "cell_type": "code",
   "execution_count": 15,
   "id": "8681c26a",
   "metadata": {
    "execution": {
     "iopub.execute_input": "2022-07-08T23:01:30.039223Z",
     "iopub.status.busy": "2022-07-08T23:01:30.038770Z",
     "iopub.status.idle": "2022-07-08T23:01:30.048269Z",
     "shell.execute_reply": "2022-07-08T23:01:30.047016Z"
    },
    "papermill": {
     "duration": 0.027061,
     "end_time": "2022-07-08T23:01:30.051696",
     "exception": false,
     "start_time": "2022-07-08T23:01:30.024635",
     "status": "completed"
    },
    "tags": []
   },
   "outputs": [
    {
     "data": {
      "text/plain": [
       "(2485, 24, 100, 100, 1)"
      ]
     },
     "execution_count": 15,
     "metadata": {},
     "output_type": "execute_result"
    }
   ],
   "source": [
    "X_test.shape"
   ]
  },
  {
   "cell_type": "code",
   "execution_count": 16,
   "id": "3408a929",
   "metadata": {
    "execution": {
     "iopub.execute_input": "2022-07-08T23:01:30.071579Z",
     "iopub.status.busy": "2022-07-08T23:01:30.071316Z",
     "iopub.status.idle": "2022-07-08T23:26:43.636536Z",
     "shell.execute_reply": "2022-07-08T23:26:43.635495Z"
    },
    "id": "9RmBlI-QNvz7",
    "outputId": "9135fa09-66e0-4568-c2c7-04716d76007b",
    "papermill": {
     "duration": 1513.576596,
     "end_time": "2022-07-08T23:26:43.638868",
     "exception": false,
     "start_time": "2022-07-08T23:01:30.062272",
     "status": "completed"
    },
    "tags": []
   },
   "outputs": [
    {
     "name": "stderr",
     "output_type": "stream",
     "text": [
      "\u001b[34m\u001b[1mwandb\u001b[0m: \u001b[33mWARNING\u001b[0m The save_model argument by default saves the model in the HDF5 format that cannot save custom objects like subclassed models and custom layers. This behavior will be deprecated in a future release in favor of the SavedModel format. Meanwhile, the HDF5 model is saved as W&B files and the SavedModel as W&B Artifacts.\n",
      "2022-07-08 23:01:30.887308: I tensorflow/compiler/mlir/mlir_graph_optimization_pass.cc:185] None of the MLIR Optimization Passes are enabled (registered 2)\n"
     ]
    },
    {
     "name": "stdout",
     "output_type": "stream",
     "text": [
      "Epoch 1/30\n"
     ]
    },
    {
     "name": "stderr",
     "output_type": "stream",
     "text": [
      "2022-07-08 23:01:32.374569: I tensorflow/stream_executor/cuda/cuda_dnn.cc:369] Loaded cuDNN version 8005\n"
     ]
    },
    {
     "name": "stdout",
     "output_type": "stream",
     "text": [
      "108/108 [==============================] - 60s 481ms/step - loss: 1.2717 - accuracy: 0.8363 - val_loss: 0.4926 - val_accuracy: 0.8757\n",
      "\n",
      "Epoch 00001: val_accuracy improved from -inf to 0.87565, saving model to bestmodel\n",
      "Epoch 2/30\n",
      "108/108 [==============================] - 50s 464ms/step - loss: 0.1512 - accuracy: 0.9435 - val_loss: 0.2447 - val_accuracy: 0.9272\n",
      "\n",
      "Epoch 00002: val_accuracy improved from 0.87565 to 0.92716, saving model to bestmodel\n",
      "Epoch 3/30\n",
      "108/108 [==============================] - 50s 465ms/step - loss: 0.0743 - accuracy: 0.9796 - val_loss: 0.4315 - val_accuracy: 0.9143\n",
      "\n",
      "Epoch 00003: val_accuracy did not improve from 0.92716\n",
      "Epoch 4/30\n",
      "108/108 [==============================] - 50s 465ms/step - loss: 0.0626 - accuracy: 0.9761 - val_loss: 0.4065 - val_accuracy: 0.9320\n",
      "\n",
      "Epoch 00004: val_accuracy improved from 0.92716 to 0.93199, saving model to bestmodel\n",
      "Epoch 5/30\n",
      "108/108 [==============================] - 50s 465ms/step - loss: 0.0590 - accuracy: 0.9802 - val_loss: 0.1980 - val_accuracy: 0.9280\n",
      "\n",
      "Epoch 00005: val_accuracy did not improve from 0.93199\n",
      "Epoch 6/30\n",
      "108/108 [==============================] - 50s 465ms/step - loss: 0.0349 - accuracy: 0.9866 - val_loss: 0.3691 - val_accuracy: 0.9324\n",
      "\n",
      "Epoch 00006: val_accuracy improved from 0.93199 to 0.93239, saving model to bestmodel\n",
      "Epoch 7/30\n",
      "108/108 [==============================] - 50s 464ms/step - loss: 0.1339 - accuracy: 0.9674 - val_loss: 0.3077 - val_accuracy: 0.9256\n",
      "\n",
      "Epoch 00007: val_accuracy did not improve from 0.93239\n",
      "Epoch 8/30\n",
      "108/108 [==============================] - 50s 465ms/step - loss: 0.0884 - accuracy: 0.9703 - val_loss: 0.2546 - val_accuracy: 0.9308\n",
      "\n",
      "Epoch 00008: val_accuracy did not improve from 0.93239\n",
      "Epoch 9/30\n",
      "108/108 [==============================] - 50s 465ms/step - loss: 0.0378 - accuracy: 0.9878 - val_loss: 0.3691 - val_accuracy: 0.9211\n",
      "\n",
      "Epoch 00009: val_accuracy did not improve from 0.93239\n",
      "Epoch 10/30\n",
      "108/108 [==============================] - 50s 465ms/step - loss: 0.0362 - accuracy: 0.9889 - val_loss: 0.4193 - val_accuracy: 0.9441\n",
      "\n",
      "Epoch 00010: val_accuracy improved from 0.93239 to 0.94406, saving model to bestmodel\n",
      "Epoch 11/30\n",
      "108/108 [==============================] - 50s 464ms/step - loss: 0.0247 - accuracy: 0.9930 - val_loss: 0.3150 - val_accuracy: 0.9465\n",
      "\n",
      "Epoch 00011: val_accuracy improved from 0.94406 to 0.94648, saving model to bestmodel\n",
      "Epoch 12/30\n",
      "108/108 [==============================] - 50s 465ms/step - loss: 0.0019 - accuracy: 0.9994 - val_loss: 0.3992 - val_accuracy: 0.9449\n",
      "\n",
      "Epoch 00012: val_accuracy did not improve from 0.94648\n",
      "Epoch 13/30\n",
      "108/108 [==============================] - 50s 465ms/step - loss: 0.0078 - accuracy: 0.9971 - val_loss: 0.8015 - val_accuracy: 0.9260\n",
      "\n",
      "Epoch 00013: val_accuracy did not improve from 0.94648\n",
      "Epoch 14/30\n",
      "108/108 [==============================] - 50s 464ms/step - loss: 0.0423 - accuracy: 0.9901 - val_loss: 0.3571 - val_accuracy: 0.9429\n",
      "\n",
      "Epoch 00014: val_accuracy did not improve from 0.94648\n",
      "Epoch 15/30\n",
      "108/108 [==============================] - 50s 465ms/step - loss: 0.0114 - accuracy: 0.9971 - val_loss: 0.5844 - val_accuracy: 0.9360\n",
      "\n",
      "Epoch 00015: val_accuracy did not improve from 0.94648\n",
      "Epoch 16/30\n",
      "108/108 [==============================] - 50s 464ms/step - loss: 0.3098 - accuracy: 0.9103 - val_loss: 0.4896 - val_accuracy: 0.9268\n",
      "\n",
      "Epoch 00016: ReduceLROnPlateau reducing learning rate to 0.0003000000142492354.\n",
      "\n",
      "Epoch 00016: val_accuracy did not improve from 0.94648\n",
      "Epoch 17/30\n",
      "108/108 [==============================] - 50s 465ms/step - loss: 0.0595 - accuracy: 0.9825 - val_loss: 0.3187 - val_accuracy: 0.9336\n",
      "\n",
      "Epoch 00017: val_accuracy did not improve from 0.94648\n",
      "Epoch 18/30\n",
      "108/108 [==============================] - 50s 464ms/step - loss: 0.0214 - accuracy: 0.9924 - val_loss: 0.4543 - val_accuracy: 0.9344\n",
      "\n",
      "Epoch 00018: val_accuracy did not improve from 0.94648\n",
      "Epoch 19/30\n",
      "108/108 [==============================] - 50s 465ms/step - loss: 0.0152 - accuracy: 0.9942 - val_loss: 0.4718 - val_accuracy: 0.9376\n",
      "\n",
      "Epoch 00019: val_accuracy did not improve from 0.94648\n",
      "Epoch 20/30\n",
      "108/108 [==============================] - 50s 464ms/step - loss: 0.0107 - accuracy: 0.9977 - val_loss: 0.4375 - val_accuracy: 0.9449\n",
      "\n",
      "Epoch 00020: val_accuracy did not improve from 0.94648\n",
      "Epoch 21/30\n",
      "108/108 [==============================] - 50s 464ms/step - loss: 0.0128 - accuracy: 0.9959 - val_loss: 0.4662 - val_accuracy: 0.9344\n",
      "\n",
      "Epoch 00021: ReduceLROnPlateau reducing learning rate to 9.000000427477062e-05.\n",
      "\n",
      "Epoch 00021: val_accuracy did not improve from 0.94648\n",
      "Epoch 22/30\n",
      "108/108 [==============================] - 50s 465ms/step - loss: 0.0048 - accuracy: 0.9983 - val_loss: 0.4715 - val_accuracy: 0.9384\n",
      "\n",
      "Epoch 00022: val_accuracy did not improve from 0.94648\n",
      "Epoch 23/30\n",
      "108/108 [==============================] - 50s 465ms/step - loss: 0.0023 - accuracy: 0.9994 - val_loss: 0.4809 - val_accuracy: 0.9372\n",
      "\n",
      "Epoch 00023: val_accuracy did not improve from 0.94648\n",
      "Epoch 24/30\n",
      "108/108 [==============================] - 50s 464ms/step - loss: 0.0028 - accuracy: 0.9983 - val_loss: 0.4634 - val_accuracy: 0.9392\n",
      "\n",
      "Epoch 00024: val_accuracy did not improve from 0.94648\n",
      "Epoch 25/30\n",
      "108/108 [==============================] - 50s 465ms/step - loss: 8.3578e-04 - accuracy: 1.0000 - val_loss: 0.4892 - val_accuracy: 0.9380\n",
      "\n",
      "Epoch 00025: val_accuracy did not improve from 0.94648\n",
      "Epoch 26/30\n",
      "108/108 [==============================] - 50s 464ms/step - loss: 0.0012 - accuracy: 1.0000 - val_loss: 0.5481 - val_accuracy: 0.9372\n",
      "\n",
      "Epoch 00026: ReduceLROnPlateau reducing learning rate to 2.700000040931627e-05.\n",
      "\n",
      "Epoch 00026: val_accuracy did not improve from 0.94648\n",
      "Epoch 27/30\n",
      "108/108 [==============================] - 50s 465ms/step - loss: 0.0010 - accuracy: 1.0000 - val_loss: 0.5459 - val_accuracy: 0.9380\n",
      "\n",
      "Epoch 00027: val_accuracy did not improve from 0.94648\n",
      "Epoch 28/30\n",
      "108/108 [==============================] - 50s 464ms/step - loss: 6.6676e-04 - accuracy: 1.0000 - val_loss: 0.5482 - val_accuracy: 0.9384\n",
      "\n",
      "Epoch 00028: val_accuracy did not improve from 0.94648\n",
      "Epoch 29/30\n",
      "108/108 [==============================] - 50s 464ms/step - loss: 0.0023 - accuracy: 0.9994 - val_loss: 0.5405 - val_accuracy: 0.9368\n",
      "\n",
      "Epoch 00029: val_accuracy did not improve from 0.94648\n",
      "Epoch 30/30\n",
      "108/108 [==============================] - 50s 464ms/step - loss: 0.0048 - accuracy: 0.9988 - val_loss: 0.5085 - val_accuracy: 0.9384\n",
      "\n",
      "Epoch 00030: val_accuracy did not improve from 0.94648\n"
     ]
    },
    {
     "data": {
      "text/plain": [
       "<keras.callbacks.History at 0x7fe98c11b0d0>"
      ]
     },
     "execution_count": 16,
     "metadata": {},
     "output_type": "execute_result"
    }
   ],
   "source": [
    "model.fit(X_train, y_train,\n",
    "          batch_size = BATCH_SIZE,\n",
    "          validation_data = (X_test, y_test),\n",
    "          epochs=EPOCHS,\n",
    "          callbacks=[\n",
    "              lr_red, \n",
    "              model_checkpoint_callback,\n",
    "              WandbCallback()\n",
    "          ]\n",
    "          )"
   ]
  },
  {
   "cell_type": "code",
   "execution_count": 17,
   "id": "0e254c26",
   "metadata": {
    "execution": {
     "iopub.execute_input": "2022-07-08T23:26:44.122805Z",
     "iopub.status.busy": "2022-07-08T23:26:44.122429Z",
     "iopub.status.idle": "2022-07-08T23:26:44.132336Z",
     "shell.execute_reply": "2022-07-08T23:26:44.131481Z"
    },
    "id": "_5n0U3VDsOO-",
    "papermill": {
     "duration": 0.276547,
     "end_time": "2022-07-08T23:26:44.135350",
     "exception": false,
     "start_time": "2022-07-08T23:26:43.858803",
     "status": "completed"
    },
    "tags": []
   },
   "outputs": [
    {
     "name": "stdout",
     "output_type": "stream",
     "text": [
      "2.7e-05\n"
     ]
    }
   ],
   "source": [
    "import keras.backend as K\n",
    "print(K.eval(model.optimizer.lr))"
   ]
  },
  {
   "cell_type": "code",
   "execution_count": 18,
   "id": "70fc8a84",
   "metadata": {
    "execution": {
     "iopub.execute_input": "2022-07-08T23:26:44.567255Z",
     "iopub.status.busy": "2022-07-08T23:26:44.566917Z",
     "iopub.status.idle": "2022-07-08T23:52:07.433200Z",
     "shell.execute_reply": "2022-07-08T23:52:07.432192Z"
    },
    "papermill": {
     "duration": 1523.08671,
     "end_time": "2022-07-08T23:52:07.435714",
     "exception": false,
     "start_time": "2022-07-08T23:26:44.349004",
     "status": "completed"
    },
    "tags": []
   },
   "outputs": [
    {
     "name": "stdout",
     "output_type": "stream",
     "text": [
      "Epoch 1/30\n",
      "108/108 [==============================] - 51s 474ms/step - loss: 0.0033 - accuracy: 0.9994 - val_loss: 0.4647 - val_accuracy: 0.9477\n",
      "\n",
      "Epoch 00001: val_accuracy improved from 0.94648 to 0.94769, saving model to bestmodel\n",
      "Epoch 2/30\n",
      "108/108 [==============================] - 50s 464ms/step - loss: 0.0709 - accuracy: 0.9802 - val_loss: 0.2965 - val_accuracy: 0.9348\n",
      "\n",
      "Epoch 00002: val_accuracy did not improve from 0.94769\n",
      "Epoch 3/30\n",
      "108/108 [==============================] - 50s 464ms/step - loss: 0.0531 - accuracy: 0.9889 - val_loss: 0.4225 - val_accuracy: 0.9272\n",
      "\n",
      "Epoch 00003: val_accuracy did not improve from 0.94769\n",
      "Epoch 4/30\n",
      "108/108 [==============================] - 50s 465ms/step - loss: 0.0944 - accuracy: 0.9720 - val_loss: 0.3090 - val_accuracy: 0.9344\n",
      "\n",
      "Epoch 00004: val_accuracy did not improve from 0.94769\n",
      "Epoch 5/30\n",
      "108/108 [==============================] - 50s 464ms/step - loss: 0.0343 - accuracy: 0.9901 - val_loss: 0.3754 - val_accuracy: 0.8640\n",
      "\n",
      "Epoch 00005: val_accuracy did not improve from 0.94769\n",
      "Epoch 6/30\n",
      "108/108 [==============================] - 50s 463ms/step - loss: 0.1100 - accuracy: 0.9674 - val_loss: 0.2945 - val_accuracy: 0.9412\n",
      "\n",
      "Epoch 00006: val_accuracy did not improve from 0.94769\n",
      "Epoch 7/30\n",
      "108/108 [==============================] - 50s 464ms/step - loss: 0.0117 - accuracy: 0.9953 - val_loss: 0.3160 - val_accuracy: 0.9529\n",
      "\n",
      "Epoch 00007: val_accuracy improved from 0.94769 to 0.95292, saving model to bestmodel\n",
      "Epoch 8/30\n",
      "108/108 [==============================] - 50s 464ms/step - loss: 0.0179 - accuracy: 0.9959 - val_loss: 0.4281 - val_accuracy: 0.9473\n",
      "\n",
      "Epoch 00008: val_accuracy did not improve from 0.95292\n",
      "Epoch 9/30\n",
      "108/108 [==============================] - 50s 464ms/step - loss: 0.1180 - accuracy: 0.9779 - val_loss: 0.3906 - val_accuracy: 0.9243\n",
      "\n",
      "Epoch 00009: val_accuracy did not improve from 0.95292\n",
      "Epoch 10/30\n",
      "108/108 [==============================] - 50s 464ms/step - loss: 0.0829 - accuracy: 0.9825 - val_loss: 0.3096 - val_accuracy: 0.8962\n",
      "\n",
      "Epoch 00010: val_accuracy did not improve from 0.95292\n",
      "Epoch 11/30\n",
      "108/108 [==============================] - 50s 464ms/step - loss: 0.0459 - accuracy: 0.9866 - val_loss: 0.3632 - val_accuracy: 0.9356\n",
      "\n",
      "Epoch 00011: val_accuracy did not improve from 0.95292\n",
      "Epoch 12/30\n",
      "108/108 [==============================] - 50s 464ms/step - loss: 0.0220 - accuracy: 0.9959 - val_loss: 0.4655 - val_accuracy: 0.9296\n",
      "\n",
      "Epoch 00012: val_accuracy did not improve from 0.95292\n",
      "Epoch 13/30\n",
      "108/108 [==============================] - 50s 464ms/step - loss: 0.0232 - accuracy: 0.9948 - val_loss: 0.3742 - val_accuracy: 0.9469\n",
      "\n",
      "Epoch 00013: val_accuracy did not improve from 0.95292\n",
      "Epoch 14/30\n",
      "108/108 [==============================] - 50s 465ms/step - loss: 0.0098 - accuracy: 0.9959 - val_loss: 0.5380 - val_accuracy: 0.9320\n",
      "\n",
      "Epoch 00014: val_accuracy did not improve from 0.95292\n",
      "Epoch 15/30\n",
      "108/108 [==============================] - 50s 464ms/step - loss: 0.0035 - accuracy: 0.9994 - val_loss: 0.4848 - val_accuracy: 0.9412\n",
      "\n",
      "Epoch 00015: val_accuracy did not improve from 0.95292\n",
      "Epoch 16/30\n",
      "108/108 [==============================] - 50s 465ms/step - loss: 0.0278 - accuracy: 0.9942 - val_loss: 0.5564 - val_accuracy: 0.9308\n",
      "\n",
      "Epoch 00016: val_accuracy did not improve from 0.95292\n",
      "Epoch 17/30\n",
      "108/108 [==============================] - 50s 464ms/step - loss: 0.0159 - accuracy: 0.9971 - val_loss: 0.7258 - val_accuracy: 0.9344\n",
      "\n",
      "Epoch 00017: val_accuracy did not improve from 0.95292\n",
      "Epoch 18/30\n",
      "108/108 [==============================] - 50s 464ms/step - loss: 0.0841 - accuracy: 0.9825 - val_loss: 0.7666 - val_accuracy: 0.9457\n",
      "\n",
      "Epoch 00018: val_accuracy did not improve from 0.95292\n",
      "Epoch 19/30\n",
      "108/108 [==============================] - 50s 464ms/step - loss: 0.1598 - accuracy: 0.9796 - val_loss: 0.6050 - val_accuracy: 0.9014\n",
      "\n",
      "Epoch 00019: val_accuracy did not improve from 0.95292\n",
      "Epoch 20/30\n",
      "108/108 [==============================] - 50s 464ms/step - loss: 0.1778 - accuracy: 0.9697 - val_loss: 0.3491 - val_accuracy: 0.9469\n",
      "\n",
      "Epoch 00020: val_accuracy did not improve from 0.95292\n",
      "Epoch 21/30\n",
      "108/108 [==============================] - 50s 463ms/step - loss: 0.0437 - accuracy: 0.9872 - val_loss: 0.4558 - val_accuracy: 0.9392\n",
      "\n",
      "Epoch 00021: val_accuracy did not improve from 0.95292\n",
      "Epoch 22/30\n",
      "108/108 [==============================] - 50s 464ms/step - loss: 0.0124 - accuracy: 0.9983 - val_loss: 0.4418 - val_accuracy: 0.9340\n",
      "\n",
      "Epoch 00022: val_accuracy did not improve from 0.95292\n",
      "Epoch 23/30\n",
      "108/108 [==============================] - 50s 464ms/step - loss: 0.0019 - accuracy: 0.9994 - val_loss: 0.4639 - val_accuracy: 0.9437\n",
      "\n",
      "Epoch 00023: val_accuracy did not improve from 0.95292\n",
      "Epoch 24/30\n",
      "108/108 [==============================] - 50s 464ms/step - loss: 0.0225 - accuracy: 0.9953 - val_loss: 0.3251 - val_accuracy: 0.9525\n",
      "\n",
      "Epoch 00024: val_accuracy did not improve from 0.95292\n",
      "Epoch 25/30\n",
      "108/108 [==============================] - 50s 464ms/step - loss: 0.0108 - accuracy: 0.9953 - val_loss: 0.3966 - val_accuracy: 0.9485\n",
      "\n",
      "Epoch 00025: val_accuracy did not improve from 0.95292\n",
      "Epoch 26/30\n",
      "108/108 [==============================] - 50s 464ms/step - loss: 0.0033 - accuracy: 0.9988 - val_loss: 0.5194 - val_accuracy: 0.9469\n",
      "\n",
      "Epoch 00026: val_accuracy did not improve from 0.95292\n",
      "Epoch 27/30\n",
      "108/108 [==============================] - 50s 464ms/step - loss: 0.0071 - accuracy: 0.9988 - val_loss: 0.3922 - val_accuracy: 0.9501\n",
      "\n",
      "Epoch 00027: val_accuracy did not improve from 0.95292\n",
      "Epoch 28/30\n",
      "108/108 [==============================] - 50s 464ms/step - loss: 0.0164 - accuracy: 0.9965 - val_loss: 0.3310 - val_accuracy: 0.9541\n",
      "\n",
      "Epoch 00028: val_accuracy improved from 0.95292 to 0.95412, saving model to bestmodel\n",
      "Epoch 29/30\n",
      "108/108 [==============================] - 50s 464ms/step - loss: 0.0029 - accuracy: 0.9983 - val_loss: 0.2910 - val_accuracy: 0.9577\n",
      "\n",
      "Epoch 00029: val_accuracy improved from 0.95412 to 0.95775, saving model to bestmodel\n",
      "Epoch 30/30\n",
      "108/108 [==============================] - 50s 464ms/step - loss: 0.0022 - accuracy: 0.9988 - val_loss: 0.4419 - val_accuracy: 0.9497\n",
      "\n",
      "Epoch 00030: val_accuracy did not improve from 0.95775\n"
     ]
    }
   ],
   "source": [
    "model.load_weights(checkpoint_filepath)\n",
    "model.fit(X_train, y_train,\n",
    "          batch_size = BATCH_SIZE,\n",
    "          validation_data = (X_test, y_test),\n",
    "          epochs=EPOCHS,\n",
    "          callbacks=[\n",
    "#               lr_red, \n",
    "              model_checkpoint_callback,\n",
    "              WandbCallback()\n",
    "          ]\n",
    "          )\n",
    "model.load_weights(checkpoint_filepath)\n",
    "model.save('my_model.h5')"
   ]
  },
  {
   "cell_type": "code",
   "execution_count": 19,
   "id": "1b224a7c",
   "metadata": {
    "execution": {
     "iopub.execute_input": "2022-07-08T23:52:08.300278Z",
     "iopub.status.busy": "2022-07-08T23:52:08.299929Z",
     "iopub.status.idle": "2022-07-08T23:52:22.088631Z",
     "shell.execute_reply": "2022-07-08T23:52:22.087574Z"
    },
    "id": "e27jnkc2RfnI",
    "outputId": "ce240fc0-ea78-404b-f8c9-b744252d25f3",
    "papermill": {
     "duration": 14.220574,
     "end_time": "2022-07-08T23:52:22.091280",
     "exception": false,
     "start_time": "2022-07-08T23:52:07.870706",
     "status": "completed"
    },
    "tags": []
   },
   "outputs": [
    {
     "name": "stdout",
     "output_type": "stream",
     "text": [
      "              precision    recall  f1-score   support\n",
      "\n",
      "           0       0.97      0.97      0.97      1896\n",
      "           1       0.91      0.91      0.91       589\n",
      "\n",
      "    accuracy                           0.96      2485\n",
      "   macro avg       0.94      0.94      0.94      2485\n",
      "weighted avg       0.96      0.96      0.96      2485\n",
      "\n"
     ]
    }
   ],
   "source": [
    "y_p = model.predict(X_test)\n",
    "from sklearn.metrics import classification_report\n",
    "print(classification_report(y_test.argmax(axis= 1), y_p.argmax(axis= 1)))"
   ]
  },
  {
   "cell_type": "code",
   "execution_count": 20,
   "id": "0f256116",
   "metadata": {
    "execution": {
     "iopub.execute_input": "2022-07-08T23:52:23.222169Z",
     "iopub.status.busy": "2022-07-08T23:52:23.221668Z",
     "iopub.status.idle": "2022-07-08T23:52:28.045813Z",
     "shell.execute_reply": "2022-07-08T23:52:28.044974Z"
    },
    "papermill": {
     "duration": 5.510871,
     "end_time": "2022-07-08T23:52:28.047859",
     "exception": false,
     "start_time": "2022-07-08T23:52:22.536988",
     "status": "completed"
    },
    "tags": []
   },
   "outputs": [
    {
     "data": {
      "text/html": [
       "Waiting for W&B process to finish... <strong style=\"color:green\">(success).</strong>"
      ],
      "text/plain": [
       "<IPython.core.display.HTML object>"
      ]
     },
     "metadata": {},
     "output_type": "display_data"
    },
    {
     "data": {
      "application/vnd.jupyter.widget-view+json": {
       "model_id": "6825c6d39f114213882b746a6aa405e8",
       "version_major": 2,
       "version_minor": 0
      },
      "text/plain": [
       "VBox(children=(Label(value='12.717 MB of 12.717 MB uploaded (0.000 MB deduped)\\r'), FloatProgress(value=1.0, m…"
      ]
     },
     "metadata": {},
     "output_type": "display_data"
    },
    {
     "data": {
      "text/html": [
       "<style>\n",
       "    table.wandb td:nth-child(1) { padding: 0 10px; text-align: left ; width: auto;} td:nth-child(2) {text-align: left ; width: 100%}\n",
       "    .wandb-row { display: flex; flex-direction: row; flex-wrap: wrap; justify-content: flex-start; width: 100% }\n",
       "    .wandb-col { display: flex; flex-direction: column; flex-basis: 100%; flex: 1; padding: 10px; }\n",
       "    </style>\n",
       "<div class=\"wandb-row\"><div class=\"wandb-col\"><h3>Run history:</h3><br/><table class=\"wandb\"><tr><td>accuracy</td><td>▁▆▇▇▇▇████▄▇█████████▇▇███▇▇████▇▇██████</td></tr><tr><td>epoch</td><td>▁▁▂▂▂▃▃▃▄▄▅▅▅▆▆▆▇▇██▁▁▂▂▂▃▃▃▄▄▅▅▅▆▆▆▇▇██</td></tr><tr><td>loss</td><td>█▂▁▁▂▁▁▁▁▁▃▁▁▁▁▁▁▁▁▁▁▁▂▁▁▁▁▁▁▁▁▁▂▂▁▁▁▁▁▁</td></tr><tr><td>lr</td><td>████████████████▃▃▃▃▃▁▁▁▁▁▁▁▁▁</td></tr><tr><td>val_accuracy</td><td>▂▆▆▆▆▆▇▇▆▇▆▆▇▇▇▇▇▇▇▇█▆▆▁█▇▃▇▇▆▆▆▄▇▆▇█▇██</td></tr><tr><td>val_loss</td><td>▄▂▃▁▂▂▄▂█▃▄▂▄▄▄▄▄▅▅▅▄▂▂▃▂▄▂▃▃▅▅▇▆▃▄▄▃▅▃▄</td></tr></table><br/></div><div class=\"wandb-col\"><h3>Run summary:</h3><br/><table class=\"wandb\"><tr><td>accuracy</td><td>0.99884</td></tr><tr><td>best_epoch</td><td>4</td></tr><tr><td>best_val_loss</td><td>0.19796</td></tr><tr><td>classification_report</td><td>              precis...</td></tr><tr><td>epoch</td><td>29</td></tr><tr><td>loss</td><td>0.00222</td></tr><tr><td>lr</td><td>3e-05</td></tr><tr><td>val_accuracy</td><td>0.9497</td></tr><tr><td>val_loss</td><td>0.4419</td></tr></table><br/></div></div>"
      ],
      "text/plain": [
       "<IPython.core.display.HTML object>"
      ]
     },
     "metadata": {},
     "output_type": "display_data"
    },
    {
     "data": {
      "text/html": [
       "Synced <strong style=\"color:#cdcd00\">vibrant-tree-52</strong>: <a href=\"https://wandb.ai/gp_fcaicu/Grad_Project_Liveness_Model/runs/30mq1jcu\" target=\"_blank\">https://wandb.ai/gp_fcaicu/Grad_Project_Liveness_Model/runs/30mq1jcu</a><br/>Synced 5 W&B file(s), 2 media file(s), 0 artifact file(s) and 1 other file(s)"
      ],
      "text/plain": [
       "<IPython.core.display.HTML object>"
      ]
     },
     "metadata": {},
     "output_type": "display_data"
    },
    {
     "data": {
      "text/html": [
       "Find logs at: <code>./wandb/run-20220708_230122-30mq1jcu/logs</code>"
      ],
      "text/plain": [
       "<IPython.core.display.HTML object>"
      ]
     },
     "metadata": {},
     "output_type": "display_data"
    }
   ],
   "source": [
    "wandb.log({\"classification_report\": classification_report(y_test.argmax(axis= 1), y_p.argmax(axis= 1))})\n",
    "wandb.finish()"
   ]
  }
 ],
 "metadata": {
  "kernelspec": {
   "display_name": "Python 3.9.12 ('tfcvflask')",
   "language": "python",
   "name": "python3"
  },
  "language_info": {
   "codemirror_mode": {
    "name": "ipython",
    "version": 3
   },
   "file_extension": ".py",
   "mimetype": "text/x-python",
   "name": "python",
   "nbconvert_exporter": "python",
   "pygments_lexer": "ipython3",
   "version": "3.9.12"
  },
  "papermill": {
   "default_parameters": {},
   "duration": 3121.216414,
   "end_time": "2022-07-08T23:52:31.561773",
   "environment_variables": {},
   "exception": null,
   "input_path": "__notebook__.ipynb",
   "output_path": "__notebook__.ipynb",
   "parameters": {},
   "start_time": "2022-07-08T23:00:30.345359",
   "version": "2.3.4"
  },
  "vscode": {
   "interpreter": {
    "hash": "6f4931a539bd25889e2670c027fc1cd292478433e7eb572755113cba80d0fe8b"
   }
  },
  "widgets": {
   "application/vnd.jupyter.widget-state+json": {
    "state": {
     "04ade1ee34e742a9850791cc6a7deeea": {
      "model_module": "@jupyter-widgets/controls",
      "model_module_version": "1.5.0",
      "model_name": "DescriptionStyleModel",
      "state": {
       "_model_module": "@jupyter-widgets/controls",
       "_model_module_version": "1.5.0",
       "_model_name": "DescriptionStyleModel",
       "_view_count": null,
       "_view_module": "@jupyter-widgets/base",
       "_view_module_version": "1.2.0",
       "_view_name": "StyleView",
       "description_width": ""
      }
     },
     "18693bf8639e4720a96151351dbdf607": {
      "model_module": "@jupyter-widgets/controls",
      "model_module_version": "1.5.0",
      "model_name": "FloatProgressModel",
      "state": {
       "_dom_classes": [],
       "_model_module": "@jupyter-widgets/controls",
       "_model_module_version": "1.5.0",
       "_model_name": "FloatProgressModel",
       "_view_count": null,
       "_view_module": "@jupyter-widgets/controls",
       "_view_module_version": "1.5.0",
       "_view_name": "ProgressView",
       "bar_style": "",
       "description": "",
       "description_tooltip": null,
       "layout": "IPY_MODEL_cfa0a9018ca04286908391826e557227",
       "max": 1,
       "min": 0,
       "orientation": "horizontal",
       "style": "IPY_MODEL_9573ab9262df465190084f16eb748828",
       "value": 1
      }
     },
     "6825c6d39f114213882b746a6aa405e8": {
      "model_module": "@jupyter-widgets/controls",
      "model_module_version": "1.5.0",
      "model_name": "VBoxModel",
      "state": {
       "_dom_classes": [],
       "_model_module": "@jupyter-widgets/controls",
       "_model_module_version": "1.5.0",
       "_model_name": "VBoxModel",
       "_view_count": null,
       "_view_module": "@jupyter-widgets/controls",
       "_view_module_version": "1.5.0",
       "_view_name": "VBoxView",
       "box_style": "",
       "children": [
        "IPY_MODEL_f90ae770eea24d7990bdc92270e901a4",
        "IPY_MODEL_18693bf8639e4720a96151351dbdf607"
       ],
       "layout": "IPY_MODEL_f40c484e5d524575bb8a1e83286da9f1"
      }
     },
     "9573ab9262df465190084f16eb748828": {
      "model_module": "@jupyter-widgets/controls",
      "model_module_version": "1.5.0",
      "model_name": "ProgressStyleModel",
      "state": {
       "_model_module": "@jupyter-widgets/controls",
       "_model_module_version": "1.5.0",
       "_model_name": "ProgressStyleModel",
       "_view_count": null,
       "_view_module": "@jupyter-widgets/base",
       "_view_module_version": "1.2.0",
       "_view_name": "StyleView",
       "bar_color": null,
       "description_width": ""
      }
     },
     "cfa0a9018ca04286908391826e557227": {
      "model_module": "@jupyter-widgets/base",
      "model_module_version": "1.2.0",
      "model_name": "LayoutModel",
      "state": {
       "_model_module": "@jupyter-widgets/base",
       "_model_module_version": "1.2.0",
       "_model_name": "LayoutModel",
       "_view_count": null,
       "_view_module": "@jupyter-widgets/base",
       "_view_module_version": "1.2.0",
       "_view_name": "LayoutView",
       "align_content": null,
       "align_items": null,
       "align_self": null,
       "border": null,
       "bottom": null,
       "display": null,
       "flex": null,
       "flex_flow": null,
       "grid_area": null,
       "grid_auto_columns": null,
       "grid_auto_flow": null,
       "grid_auto_rows": null,
       "grid_column": null,
       "grid_gap": null,
       "grid_row": null,
       "grid_template_areas": null,
       "grid_template_columns": null,
       "grid_template_rows": null,
       "height": null,
       "justify_content": null,
       "justify_items": null,
       "left": null,
       "margin": null,
       "max_height": null,
       "max_width": null,
       "min_height": null,
       "min_width": null,
       "object_fit": null,
       "object_position": null,
       "order": null,
       "overflow": null,
       "overflow_x": null,
       "overflow_y": null,
       "padding": null,
       "right": null,
       "top": null,
       "visibility": null,
       "width": null
      }
     },
     "f40c484e5d524575bb8a1e83286da9f1": {
      "model_module": "@jupyter-widgets/base",
      "model_module_version": "1.2.0",
      "model_name": "LayoutModel",
      "state": {
       "_model_module": "@jupyter-widgets/base",
       "_model_module_version": "1.2.0",
       "_model_name": "LayoutModel",
       "_view_count": null,
       "_view_module": "@jupyter-widgets/base",
       "_view_module_version": "1.2.0",
       "_view_name": "LayoutView",
       "align_content": null,
       "align_items": null,
       "align_self": null,
       "border": null,
       "bottom": null,
       "display": null,
       "flex": null,
       "flex_flow": null,
       "grid_area": null,
       "grid_auto_columns": null,
       "grid_auto_flow": null,
       "grid_auto_rows": null,
       "grid_column": null,
       "grid_gap": null,
       "grid_row": null,
       "grid_template_areas": null,
       "grid_template_columns": null,
       "grid_template_rows": null,
       "height": null,
       "justify_content": null,
       "justify_items": null,
       "left": null,
       "margin": null,
       "max_height": null,
       "max_width": null,
       "min_height": null,
       "min_width": null,
       "object_fit": null,
       "object_position": null,
       "order": null,
       "overflow": null,
       "overflow_x": null,
       "overflow_y": null,
       "padding": null,
       "right": null,
       "top": null,
       "visibility": null,
       "width": null
      }
     },
     "f8484c75279f40e5aee04a6804fd262b": {
      "model_module": "@jupyter-widgets/base",
      "model_module_version": "1.2.0",
      "model_name": "LayoutModel",
      "state": {
       "_model_module": "@jupyter-widgets/base",
       "_model_module_version": "1.2.0",
       "_model_name": "LayoutModel",
       "_view_count": null,
       "_view_module": "@jupyter-widgets/base",
       "_view_module_version": "1.2.0",
       "_view_name": "LayoutView",
       "align_content": null,
       "align_items": null,
       "align_self": null,
       "border": null,
       "bottom": null,
       "display": null,
       "flex": null,
       "flex_flow": null,
       "grid_area": null,
       "grid_auto_columns": null,
       "grid_auto_flow": null,
       "grid_auto_rows": null,
       "grid_column": null,
       "grid_gap": null,
       "grid_row": null,
       "grid_template_areas": null,
       "grid_template_columns": null,
       "grid_template_rows": null,
       "height": null,
       "justify_content": null,
       "justify_items": null,
       "left": null,
       "margin": null,
       "max_height": null,
       "max_width": null,
       "min_height": null,
       "min_width": null,
       "object_fit": null,
       "object_position": null,
       "order": null,
       "overflow": null,
       "overflow_x": null,
       "overflow_y": null,
       "padding": null,
       "right": null,
       "top": null,
       "visibility": null,
       "width": null
      }
     },
     "f90ae770eea24d7990bdc92270e901a4": {
      "model_module": "@jupyter-widgets/controls",
      "model_module_version": "1.5.0",
      "model_name": "LabelModel",
      "state": {
       "_dom_classes": [],
       "_model_module": "@jupyter-widgets/controls",
       "_model_module_version": "1.5.0",
       "_model_name": "LabelModel",
       "_view_count": null,
       "_view_module": "@jupyter-widgets/controls",
       "_view_module_version": "1.5.0",
       "_view_name": "LabelView",
       "description": "",
       "description_tooltip": null,
       "layout": "IPY_MODEL_f8484c75279f40e5aee04a6804fd262b",
       "placeholder": "​",
       "style": "IPY_MODEL_04ade1ee34e742a9850791cc6a7deeea",
       "value": "12.833 MB of 12.833 MB uploaded (0.000 MB deduped)\r"
      }
     }
    },
    "version_major": 2,
    "version_minor": 0
   }
  }
 },
 "nbformat": 4,
 "nbformat_minor": 5
}
